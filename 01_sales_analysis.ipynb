{
 "cells": [
  {
   "cell_type": "markdown",
   "id": "01e44a4a",
   "metadata": {},
   "source": [
    "# 1. Business Understanding"
   ]
  },
  {
   "cell_type": "markdown",
   "id": "5f63973a",
   "metadata": {},
   "source": [
    "Analyze Acme Co.’s 2014–2018 sales data to identify key revenue and profit drivers across products, channels, and regions; uncover seasonal trends and outliers; and align performance against budgets. Use these insights to optimize pricing, promotions, and market expansion for sustainable growth and reduced concentration risk."
   ]
  },
  {
   "cell_type": "markdown",
   "id": "40168430",
   "metadata": {},
   "source": [
    "**Objective**  \n",
    "Deliver actionable insights from Acme Co.’s 2014–2018 sales data to:  \n",
    "\n",
    "Identify top-performing products, channels, and regions driving revenue and profit  \n",
    "Uncover seasonal trends and anomalies for optimized planning  \n",
    "Spot pricing and margin risks from outlier transactions  \n",
    "Inform pricing, promotion, and market-expansion strategies  \n",
    "These findings will guide the design of a Power BI dashboard to support strategic decision-making and sustainable growth."
   ]
  },
  {
   "cell_type": "code",
   "execution_count": null,
   "id": "8cfdc309",
   "metadata": {},
   "outputs": [],
   "source": [
    "import pandas as pd\n",
    "import numpy as np\n",
    "import matplotlib.pyplot as plt\n",
    "import seaborn as sns"
   ]
  },
  {
   "cell_type": "code",
   "execution_count": null,
   "id": "817bc411",
   "metadata": {},
   "outputs": [],
   "source": [
    "\n",
    "# df = pd.read_excel(r\"C:\\Users\\hp\\Downloads\\data.xlsx\")    #raw string r\n",
    "# df = pd.read_excel(\"C:\\\\Users\\\\hp\\\\Downloads\\\\data.xlsx\") #double backslash as \\ is traeted as escape sequence"
   ]
  },
  {
   "cell_type": "markdown",
   "id": "389c9e4b",
   "metadata": {},
   "source": [
    "df is a dictionary of sheets in file. it stores data in {sheet:table}(key value pair) format"
   ]
  },
  {
   "cell_type": "code",
   "execution_count": null,
   "id": "9f0f10e9",
   "metadata": {},
   "outputs": [],
   "source": [
    "# df = pd.read_excel(\"C:/Users/hp/Downloads/data.xlsx\", sheet_name=None)  #use fwd slash for location\n",
    "df = pd.read_excel(\"data.xlsx\", sheet_name=None)  #use fwd slash for location\n",
    "                    #sheetname=none load all sheets\n"
   ]
  },
  {
   "cell_type": "markdown",
   "id": "21311183",
   "metadata": {},
   "source": [
    "df is a dictionary → {sheet_name: DataFrame}     (sheetnaeme and table in it)  \n",
    ".items() gives pairs (key, value)  \n",
    "name = the sheet name (a string)  \n",
    "table = the DataFrame of that sheet"
   ]
  },
  {
   "cell_type": "markdown",
   "id": "162dea4f",
   "metadata": {},
   "source": [
    "# 2.Data Understanding"
   ]
  },
  {
   "cell_type": "code",
   "execution_count": null,
   "id": "92ca8402",
   "metadata": {},
   "outputs": [],
   "source": [
    "df.keys()      #print name of all sheets or column names of a specific given sheet"
   ]
  },
  {
   "cell_type": "code",
   "execution_count": null,
   "id": "e26a63f6",
   "metadata": {},
   "outputs": [],
   "source": [
    "sales = df[\"Sales Orders\"]      #access one sheet\n",
    "customer = df[\"Customers\"]    \n",
    "region = df[\"Regions\"]    \n",
    "statereg = df[\"State Regions\"]      \n",
    "product= df[\"Products\"]    \n",
    "budget = df[\"2017 Budgets\"]    "
   ]
  },
  {
   "cell_type": "code",
   "execution_count": null,
   "id": "b06fd98c",
   "metadata": {},
   "outputs": [],
   "source": [
    "# Example: loop through all sheets\n",
    "for name, table in df.items():\n",
    "    print(f\"\\n--- {name} ---\")\n",
    "    print(table.shape)"
   ]
  },
  {
   "cell_type": "code",
   "execution_count": null,
   "id": "82f64085",
   "metadata": {},
   "outputs": [],
   "source": [
    "sales.head()"
   ]
  },
  {
   "cell_type": "code",
   "execution_count": null,
   "id": "f669f96e",
   "metadata": {},
   "outputs": [],
   "source": [
    "customer.head()"
   ]
  },
  {
   "cell_type": "code",
   "execution_count": null,
   "id": "6b1f934b",
   "metadata": {},
   "outputs": [],
   "source": [
    "product.head()"
   ]
  },
  {
   "cell_type": "code",
   "execution_count": null,
   "id": "8e49ecba",
   "metadata": {},
   "outputs": [],
   "source": [
    "region.head()"
   ]
  },
  {
   "cell_type": "code",
   "execution_count": null,
   "id": "4434fece",
   "metadata": {},
   "outputs": [],
   "source": [
    "statereg.head()"
   ]
  },
  {
   "cell_type": "code",
   "execution_count": null,
   "id": "982f15f0",
   "metadata": {},
   "outputs": [],
   "source": [
    "budget.head()"
   ]
  },
  {
   "cell_type": "code",
   "execution_count": null,
   "id": "5d7e73c9",
   "metadata": {},
   "outputs": [],
   "source": [
    "sales.isnull().sum()"
   ]
  },
  {
   "cell_type": "code",
   "execution_count": null,
   "id": "f7964728",
   "metadata": {},
   "outputs": [],
   "source": [
    "customer.isnull().sum()"
   ]
  },
  {
   "cell_type": "code",
   "execution_count": null,
   "id": "ea33a629",
   "metadata": {},
   "outputs": [],
   "source": [
    "region.isnull().sum()"
   ]
  },
  {
   "cell_type": "code",
   "execution_count": null,
   "id": "c5e08bcc",
   "metadata": {},
   "outputs": [],
   "source": [
    "statereg.isnull().sum()"
   ]
  },
  {
   "cell_type": "code",
   "execution_count": null,
   "id": "48bbd04a",
   "metadata": {},
   "outputs": [],
   "source": [
    "budget.isnull().sum()"
   ]
  },
  {
   "cell_type": "code",
   "execution_count": null,
   "id": "bf956a10",
   "metadata": {},
   "outputs": [],
   "source": [
    "product.isnull().sum()"
   ]
  },
  {
   "cell_type": "markdown",
   "id": "a163e340",
   "metadata": {},
   "source": [
    "# 3.Data Connection"
   ]
  },
  {
   "cell_type": "code",
   "execution_count": null,
   "id": "de4d7900",
   "metadata": {},
   "outputs": [],
   "source": [
    "dfnew=df.copy()"
   ]
  },
  {
   "cell_type": "code",
   "execution_count": null,
   "id": "bd4c86a3",
   "metadata": {},
   "outputs": [],
   "source": [
    "dfnew= pd.merge(sales,customer, left_on=\"Customer Name Index\", right_on=\"Customer Index\", how=\"left\")"
   ]
  },
  {
   "cell_type": "code",
   "execution_count": null,
   "id": "304c37ce",
   "metadata": {},
   "outputs": [],
   "source": [
    "# sales.merge(customer,left_on=\"Customer Name Index\", right_on=\"Customer Index\" )"
   ]
  },
  {
   "cell_type": "markdown",
   "id": "61776a91",
   "metadata": {},
   "source": [
    "when column names is not same in both tables, left_on = col_name in table1 and right_on= col_name in table2 is used  \n",
    "if col name is same \"on\" is used  \n",
    "merge(t1,t2, on=\"id\")"
   ]
  },
  {
   "cell_type": "code",
   "execution_count": null,
   "id": "7ffd075e",
   "metadata": {},
   "outputs": [],
   "source": [
    "dfnew= dfnew.merge(product, left_on=\"Product Description Index\", right_on=\"Index\", how=\"left\")"
   ]
  },
  {
   "cell_type": "code",
   "execution_count": null,
   "id": "59bfbf9a",
   "metadata": {},
   "outputs": [],
   "source": [
    "dfnew=dfnew.merge(region, left_on=\"Delivery Region Index\", right_on=\"id\", how=\"left\")"
   ]
  },
  {
   "cell_type": "code",
   "execution_count": null,
   "id": "51a31907",
   "metadata": {},
   "outputs": [],
   "source": [
    "dfnew=dfnew.merge(statereg, left_on=\"state_code\", right_on=\"State Code\", how=\"left\")"
   ]
  },
  {
   "cell_type": "code",
   "execution_count": null,
   "id": "0a7b8169",
   "metadata": {},
   "outputs": [],
   "source": [
    "dfnew=dfnew.merge(budget, left_on=\"Product Name\", right_on=\"Product Name\", how=\"left\")"
   ]
  },
  {
   "cell_type": "markdown",
   "id": "4c54d946",
   "metadata": {},
   "source": [
    "**Merged file creation**"
   ]
  },
  {
   "cell_type": "code",
   "execution_count": null,
   "id": "d19c79e8",
   "metadata": {},
   "outputs": [],
   "source": [
    "# dfnew.to_csv(\"salesfile.csv\")"
   ]
  },
  {
   "cell_type": "markdown",
   "id": "b4f439d6",
   "metadata": {},
   "source": [
    "# 4. Data cleaning"
   ]
  },
  {
   "cell_type": "code",
   "execution_count": null,
   "id": "bfef9f37",
   "metadata": {},
   "outputs": [],
   "source": [
    "dfnew.drop(columns=[\"Customer Index\",\"Index\",\"id\",\"State Code\",\"State\"], errors=\"ignore\", inplace=True)\n",
    "# df=df.drop(columns=[\"Customer Index\",\"Index\",\"id\",\"State Code\",\"State\"], errors=\"ignore\")     assigning directly without inplace"
   ]
  },
  {
   "cell_type": "code",
   "execution_count": null,
   "id": "24c188a6",
   "metadata": {},
   "outputs": [],
   "source": [
    "dfnew.keys()"
   ]
  },
  {
   "cell_type": "markdown",
   "id": "65a093c2",
   "metadata": {},
   "source": [
    "**convert column names to lower case for easeof access**"
   ]
  },
  {
   "cell_type": "code",
   "execution_count": null,
   "id": "ec7e8f5b",
   "metadata": {},
   "outputs": [],
   "source": [
    "dfnew.columns=dfnew.columns.str.lower()\n",
    "dfnew.columns.values"
   ]
  },
  {
   "cell_type": "markdown",
   "id": "3b1446cd",
   "metadata": {},
   "source": [
    "**recognise which data is needed and keep it**"
   ]
  },
  {
   "cell_type": "code",
   "execution_count": null,
   "id": "04a625d8",
   "metadata": {},
   "outputs": [],
   "source": [
    "col_to_keep=['ordernumber', 'orderdate','channel','order quantity', 'unit price',\n",
    "       'line total', 'total unit cost','customer names', 'product name','county','state', \"state_code\",'region',\"latitude\",\"longitude\",'2017 budgets']\n",
    "dfnew=dfnew[col_to_keep]"
   ]
  },
  {
   "cell_type": "markdown",
   "id": "20c81972",
   "metadata": {},
   "source": [
    "**rename columns**"
   ]
  },
  {
   "cell_type": "code",
   "execution_count": null,
   "id": "2dc6f353",
   "metadata": {},
   "outputs": [],
   "source": [
    "dfnew=dfnew.rename(columns={\n",
    "    'ordernumber':'order_number',\n",
    "    'orderdate':'order_date',  \n",
    "    'order quantity':'order_quantity',\n",
    "    'unit price':'unit_price',\n",
    "    'line total':  'revenue', \n",
    "    'total unit cost':'total_unit_cost', \n",
    "    'customer names':'customer_name', \n",
    "    'product name':'product_name',\n",
    "    '2017 budgets':'budget_2024'}\n",
    "    )\n",
    "dfnew.keys()"
   ]
  },
  {
   "cell_type": "code",
   "execution_count": null,
   "id": "298a547d",
   "metadata": {},
   "outputs": [],
   "source": [
    "dfnew=dfnew.rename(columns={\"line_total\":\"revenue\"})\n",
    "dfnew.keys()"
   ]
  },
  {
   "cell_type": "markdown",
   "id": "57452714",
   "metadata": {},
   "source": [
    "#moving the years to make data look recent"
   ]
  },
  {
   "cell_type": "markdown",
   "id": "3d5ba7c4",
   "metadata": {},
   "source": [
    "method 1:  \n",
    "df.loc[df[\"order_date\"].dt.year == 2014, \"order_date\"] = df[\"order_date\"] + pd.offsets.DateOffset(years=7)  \n",
    "\n",
    "method 2:  \n",
    "df[\"order_date\"]= df[\"order_date\"].apply(\n",
    "    lambda d: d.replace(year=2021) if d.year==2014 else\n",
    "            d.replace(year=2022) if d.year == 2015 else \n",
    "            d.replace(year=2023) if d.year == 2016 else \n",
    "            d.replace(year=2024) if d.year == 2017 else \n",
    "            d.replace(year=2025) \n",
    ")  \n",
    "\n",
    "method 3:  \n"
   ]
  },
  {
   "cell_type": "code",
   "execution_count": null,
   "id": "cbf19f37",
   "metadata": {},
   "outputs": [],
   "source": [
    "year_map = {2014: 2021, 2015: 2022, 2016: 2023, 2017: 2024, 2018:2025}\n",
    "\n",
    "# Extract components\n",
    "years  = dfnew[\"order_date\"].dt.year.replace(year_map)\n",
    "months = dfnew[\"order_date\"].dt.month\n",
    "days   = dfnew[\"order_date\"].dt.day\n",
    "\n",
    "# Rebuild dates safely (clip avoids 29 → 28)\n",
    "dfnew[\"order_date\"] = pd.to_datetime({\n",
    "    \"year\": years,\n",
    "    \"month\": months,\n",
    "    \"day\": days.clip(upper=28)    #leap year 29feb is changed to 28 feb\n",
    "})\n"
   ]
  },
  {
   "cell_type": "markdown",
   "id": "8621fd61",
   "metadata": {},
   "source": [
    "pd.to_datetime() → converts a set of year/month/day numbers into full datetime objects."
   ]
  },
  {
   "cell_type": "markdown",
   "id": "6fa9b873",
   "metadata": {},
   "source": [
    "as budget is only available for 2024, blank out budget for all other years"
   ]
  },
  {
   "cell_type": "code",
   "execution_count": null,
   "id": "c0fa090d",
   "metadata": {},
   "outputs": [],
   "source": [
    "dfnew.head()"
   ]
  },
  {
   "cell_type": "code",
   "execution_count": null,
   "id": "57e5a0d0",
   "metadata": {},
   "outputs": [],
   "source": [
    "dfnew.keys()"
   ]
  },
  {
   "cell_type": "code",
   "execution_count": null,
   "id": "254c1e8a",
   "metadata": {},
   "outputs": [],
   "source": [
    "dfnew.loc[dfnew[\"order_date\"].dt.year !=2024, \"budget_2024\"] = pd.NA"
   ]
  },
  {
   "cell_type": "code",
   "execution_count": null,
   "id": "a7044496",
   "metadata": {},
   "outputs": [],
   "source": [
    "dfnew.to_csv(\"final.csv\")"
   ]
  },
  {
   "cell_type": "code",
   "execution_count": null,
   "id": "87745a4c",
   "metadata": {},
   "outputs": [],
   "source": [
    "dfnew.info()"
   ]
  },
  {
   "cell_type": "markdown",
   "id": "eed62121",
   "metadata": {},
   "source": [
    "filter dataset to include only record from 2017"
   ]
  },
  {
   "cell_type": "code",
   "execution_count": null,
   "id": "774cdf2d",
   "metadata": {},
   "outputs": [],
   "source": [
    "df_2017= dfnew.loc[dfnew[\"order_date\"].dt.year ==2021, :]"
   ]
  },
  {
   "cell_type": "code",
   "execution_count": null,
   "id": "db803558",
   "metadata": {},
   "outputs": [],
   "source": [
    "dfnew.isnull().sum()"
   ]
  },
  {
   "cell_type": "markdown",
   "id": "80444e12",
   "metadata": {},
   "source": [
    "# 5.Feature engineering"
   ]
  },
  {
   "cell_type": "code",
   "execution_count": null,
   "id": "bf361753",
   "metadata": {},
   "outputs": [],
   "source": [
    "dfnew[\"profit\"]= dfnew[\"revenue\"]- dfnew[\"total_unit_cost\"]        #adding new columns\n",
    "dfnew[\"profit_margin_pct\"]= (dfnew[\"profit\"]/dfnew[\"revenue\"])*100"
   ]
  },
  {
   "cell_type": "code",
   "execution_count": null,
   "id": "1957c823",
   "metadata": {},
   "outputs": [],
   "source": [
    "dfnew.keys()"
   ]
  },
  {
   "cell_type": "markdown",
   "id": "5ae38415",
   "metadata": {},
   "source": [
    "# 6. EDA"
   ]
  },
  {
   "cell_type": "markdown",
   "id": "fbd11cc0",
   "metadata": {},
   "source": [
    "creating monthly sales line chart"
   ]
  },
  {
   "cell_type": "code",
   "execution_count": null,
   "id": "112d1343",
   "metadata": {},
   "outputs": [],
   "source": [
    "# Ensure order_date is datetime\n",
    "dfnew['order_date'] = pd.to_datetime(dfnew['order_date'])\n",
    "#\n",
    "# Extract month and year for grouping\n",
    "dfnew['year_month'] = dfnew['order_date'].dt.to_period('M')   #add year automatically to period\n",
    "dfnew['year_month'].head()\n"
   ]
  },
  {
   "cell_type": "code",
   "execution_count": null,
   "id": "33eb5e2e",
   "metadata": {},
   "outputs": [],
   "source": [
    "# Aggregate total revenue per month\n",
    "# df.groupby(by)[column].agg_function()\n",
    "#reset_index coverts it into dataframe not talking period as index\n",
    "monthly_sales = dfnew.groupby('year_month')['revenue'].sum().reset_index()\n",
    "# "
   ]
  },
  {
   "cell_type": "code",
   "execution_count": null,
   "id": "ac122c3c",
   "metadata": {},
   "outputs": [],
   "source": [
    "monthly_sales['year_month'] = monthly_sales['year_month'].dt.to_timestamp()  # convert to datetime for plotting\n",
    "# #as matlplotlib work better with timestamps convert period y-m to timestsamp y-m-d\n",
    "# monthly_sales_2023=monthly_sales.loc[monthly_sales[\"year_month\"].dt.year==2023, :]  #gives sales for 2023"
   ]
  },
  {
   "cell_type": "code",
   "execution_count": null,
   "id": "8b1ff9c8",
   "metadata": {},
   "outputs": [],
   "source": [
    "plt.figure(figsize=(12,6))\n",
    "plt.plot(monthly_sales['year_month'], monthly_sales['revenue'], marker='o', linestyle='-')\n",
    "plt.title('Monthly Sales')\n",
    "plt.xlabel('Month')\n",
    "plt.ylabel('Revenue')\n",
    "plt.xticks(rotation=45)\n",
    "plt.grid(True)\n",
    "plt.tight_layout()\n",
    "plt.show()\n"
   ]
  }
 ],
 "metadata": {
  "kernelspec": {
   "display_name": "Python 3",
   "language": "python",
   "name": "python3"
  },
  "language_info": {
   "codemirror_mode": {
    "name": "ipython",
    "version": 3
   },
   "file_extension": ".py",
   "mimetype": "text/x-python",
   "name": "python",
   "nbconvert_exporter": "python",
   "pygments_lexer": "ipython3",
   "version": "3.13.7"
  }
 },
 "nbformat": 4,
 "nbformat_minor": 5
}
