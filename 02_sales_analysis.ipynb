{
 "cells": [
  {
   "cell_type": "code",
   "execution_count": 2,
   "id": "6243a59b",
   "metadata": {},
   "outputs": [],
   "source": [
    "import pandas as pd\n",
    "import numpy as np\n",
    "import matplotlib.pyplot as plt\n",
    "import seaborn as sns"
   ]
  },
  {
   "cell_type": "code",
   "execution_count": 3,
   "id": "00b2b08f",
   "metadata": {},
   "outputs": [],
   "source": [
    "df=pd.read_csv(\"final.csv\")"
   ]
  },
  {
   "cell_type": "markdown",
   "id": "58552b26",
   "metadata": {},
   "source": [
    "# EDA continues"
   ]
  },
  {
   "cell_type": "code",
   "execution_count": 4,
   "id": "f4b76f88",
   "metadata": {},
   "outputs": [
    {
     "data": {
      "text/plain": [
       "Index(['Unnamed: 0', 'order_number', 'order_date', 'channel', 'order_quantity',\n",
       "       'unit_price', 'revenue', 'total_unit_cost', 'customer_name',\n",
       "       'product_name', 'county', 'state', 'state_code', 'region', 'latitude',\n",
       "       'longitude', 'budget_2024'],\n",
       "      dtype='object')"
      ]
     },
     "execution_count": 4,
     "metadata": {},
     "output_type": "execute_result"
    }
   ],
   "source": [
    "dfnew=df.copy()\n",
    "dfnew.keys()"
   ]
  },
  {
   "cell_type": "markdown",
   "id": "36517349",
   "metadata": {},
   "source": [
    "**seasonality view**"
   ]
  },
  {
   "cell_type": "code",
   "execution_count": 5,
   "id": "60fadc05",
   "metadata": {},
   "outputs": [],
   "source": [
    "dfnew[\"order_date\"]=pd.to_datetime(dfnew[\"order_date\"])         #ensure it is in datetime format\n",
    "# 1. Create boolean mask for rows to keep (remove 2025 data as only jan and feb is available)\n",
    "mask = ~(\n",
    "    (dfnew[\"order_date\"].dt.year == 2025) &\n",
    "    (dfnew[\"order_date\"].dt.month.isin([1, 2]))\n",
    ")\n",
    "\n",
    "# 2. Apply mask and make a copy- column not specified hence selects all columns\n",
    "dfnew = dfnew.loc[mask].copy()\n"
   ]
  },
  {
   "cell_type": "code",
   "execution_count": 6,
   "id": "957079a2",
   "metadata": {},
   "outputs": [],
   "source": [
    "\n",
    "dfnew[\"month_name\"]=dfnew[\"order_date\"].dt.month_name()         #extract month nanes\n",
    "dfnew[\"month_num\"]= dfnew[\"order_date\"].dt.month               #extract month number\n",
    "monthly_sales=dfnew.groupby(['month_num','month_name'])[\"revenue\"].sum().reset_index().sort_values('month_num')\n"
   ]
  },
  {
   "cell_type": "code",
   "execution_count": null,
   "id": "b9c82971",
   "metadata": {},
   "outputs": [],
   "source": [
    "plt.plot(monthly_sales[\"month_name\"],monthly_sales[\"revenue\"], marker='o',label=\"monthly sales\")\n",
    "plt.grid(True)\n",
    "plt.xlabel(\"revenue\")\n",
    "plt.ylabel(\"month\")\n",
    "plt.title(\"seasonality view\")\n",
    "plt.xticks(rotation=45)\n",
    "plt.show()"
   ]
  },
  {
   "cell_type": "markdown",
   "id": "b8564ecb",
   "metadata": {},
   "source": [
    "top 10 product by revenue"
   ]
  },
  {
   "cell_type": "code",
   "execution_count": null,
   "id": "14b5bc78",
   "metadata": {},
   "outputs": [],
   "source": [
    "top10=dfnew.groupby(\"product_name\")[\"revenue\"].sum().reset_index().sort_values(\"revenue\", ascending=False)\n",
    "# plt.bar(top10[\"revenue\"],top10[\"product_name\"], color=\"black\")\n",
    "top10=top10.head(10)\n",
    "top10\n",
    "plt.figure(figsize=(10,6))\n",
    "bars = plt.bar(top10[\"product_name\"], top10[\"revenue\"], color=\"skyblue\")\n",
    "\n",
    "# Add value labels on top of each bar\n",
    "for bar in bars:\n",
    "    height = bar.get_height()\n",
    "    plt.text(\n",
    "        bar.get_x() + bar.get_width()/2,  # x-position: center of bar\n",
    "        height + 0.05*max(top10[\"revenue\"]),  # y-position: slightly above bar\n",
    "        f'{height:.0f}',  # format value\n",
    "        ha='center', va='bottom'\n",
    "    )\n",
    "\n",
    "plt.xlabel(\"Product Name\")\n",
    "plt.ylabel(\"Revenue\")\n",
    "plt.title(\"Top 10 Products by Revenue\")\n",
    "plt.xticks(rotation=45)\n",
    "plt.tight_layout()\n",
    "plt.show()"
   ]
  },
  {
   "cell_type": "markdown",
   "id": "9c592c10",
   "metadata": {},
   "source": [
    "sales by channel"
   ]
  },
  {
   "cell_type": "code",
   "execution_count": null,
   "id": "558929fc",
   "metadata": {},
   "outputs": [],
   "source": [
    "saleschannel= dfnew.groupby(\"channel\")[\"revenue\"].sum().reset_index()\n",
    "plt.Figure(figsize=(5,5))\n",
    "plt.pie(saleschannel[\"revenue\"], autopct=\"%1.1f%%\", colors=sns.color_palette(\"colorblind\"))\n",
    "plt.legend(saleschannel[\"channel\"], loc=\"lower center\", ncol=3)\n",
    "plt.title(\"sales by channel\")\n",
    "plt.show()"
   ]
  },
  {
   "cell_type": "markdown",
   "id": "9abc3405",
   "metadata": {},
   "source": [
    "average order distribution"
   ]
  },
  {
   "cell_type": "code",
   "execution_count": null,
   "id": "beb0da26",
   "metadata": {},
   "outputs": [],
   "source": [
    "aod=dfnew.groupby(\"order_number\")[\"revenue\"].sum().reset_index()\n",
    "plt.hist(aod[\"revenue\"], edgecolor=\"black\", color=\"lightgreen\", bins=50)\n",
    "plt.show()"
   ]
  },
  {
   "cell_type": "markdown",
   "id": "0cbd99e5",
   "metadata": {},
   "source": [
    "unit price distribution per product"
   ]
  },
  {
   "cell_type": "code",
   "execution_count": 7,
   "id": "6c0dbb30",
   "metadata": {},
   "outputs": [
    {
     "data": {
      "text/plain": [
       "Index(['Unnamed: 0', 'order_number', 'order_date', 'channel', 'order_quantity',\n",
       "       'unit_price', 'revenue', 'total_unit_cost', 'customer_name',\n",
       "       'product_name', 'county', 'state', 'state_code', 'region', 'latitude',\n",
       "       'longitude', 'budget_2024', 'month_name', 'month_num'],\n",
       "      dtype='object')"
      ]
     },
     "execution_count": 7,
     "metadata": {},
     "output_type": "execute_result"
    }
   ],
   "source": [
    "dfnew.keys()"
   ]
  },
  {
   "cell_type": "code",
   "execution_count": null,
   "id": "bd57cfbe",
   "metadata": {},
   "outputs": [],
   "source": [
    "unitp = dfnew.groupby(\"product_name\")[\"unit_price\"].sum().reset_index().sort_values(\"unit_price\")\n",
    "plt.figure(figsize=(12,6))\n",
    "plt.bar(unitp[\"product_name\"],unitp[\"unit_price\"], color=sns.color_palette(\"colorblind6\") )\n",
    "plt.ylabel(\"unitprice ranges\")\n",
    "plt.xlabel(\"no of products\")\n",
    "plt.xticks(rotation=90)\n",
    "plt.show()"
   ]
  },
  {
   "cell_type": "markdown",
   "id": "daf96b8b",
   "metadata": {},
   "source": [
    "top 10 states by revenue and order count"
   ]
  },
  {
   "cell_type": "code",
   "execution_count": null,
   "id": "70d1db4b",
   "metadata": {},
   "outputs": [],
   "source": [
    "dfnew.keys()"
   ]
  },
  {
   "cell_type": "code",
   "execution_count": null,
   "id": "744e4ad4",
   "metadata": {},
   "outputs": [],
   "source": [
    "state = dfnew.groupby(\"state\").agg({\n",
    "    \"revenue\": \"sum\",\n",
    "    \"order_number\": \"count\"\n",
    "}).reset_index()\n",
    "\n",
    "state.rename(columns={\"order_number\":\"order_count\"}, inplace=True)\n",
    "stater=state.sort_values(\"revenue\",ascending=False).head(10)\n",
    "stateo=state.sort_values(\"order_count\",ascending=False).head(10)"
   ]
  },
  {
   "cell_type": "code",
   "execution_count": null,
   "id": "dd05fb68",
   "metadata": {},
   "outputs": [],
   "source": [
    "plt.figure(figsize=(12,8))\n",
    "plt.subplot(1,2,1)\n",
    "plt.suptitle(\"top 10 state\")\n",
    "plt.bar(stater[\"state\"], stater[\"revenue\"], color=sns.color_palette(\"colorblind6\"))\n",
    "plt.xticks(rotation=90)\n",
    "plt.title(\"by revenue\")\n",
    "plt.subplot(1,2,2)\n",
    "plt.bar(stateo[\"state\"], stateo[\"order_count\"], color=sns.color_palette(\"colorblind6\"))\n",
    "plt.xticks(rotation=90)\n",
    "plt.title(\"by order\")\n"
   ]
  },
  {
   "cell_type": "markdown",
   "id": "4887f1a8",
   "metadata": {},
   "source": [
    "average profit margin by channels"
   ]
  },
  {
   "cell_type": "code",
   "execution_count": 8,
   "id": "c2986371",
   "metadata": {},
   "outputs": [
    {
     "data": {
      "image/png": "[encoded data removed]",
      "text/plain": [
       "<Figure size 800x600 with 1 Axes>"
      ]
     },
     "metadata": {},
     "output_type": "display_data"
    }
   ],
   "source": [
    "# Calculate profit and profit margin\n",
    "dfnew[\"profit\"] = dfnew[\"revenue\"] - (dfnew[\"order_quantity\"] * dfnew[\"total_unit_cost\"])\n",
    "dfnew[\"profit_margin_pct\"] = (dfnew[\"profit\"] / dfnew[\"revenue\"]) * 100\n",
    "\n",
    "# Group by channel and calculate average profit margin\n",
    "avg_margin = (\n",
    "    dfnew.groupby(\"channel\")[\"profit_margin_pct\"]\n",
    "    .mean()\n",
    "    .reset_index()\n",
    "    .sort_values(\"profit_margin_pct\", ascending=False)\n",
    ")\n",
    "\n",
    "# Plot bar chart\n",
    "plt.figure(figsize=(8,6))\n",
    "bars = plt.bar(avg_margin[\"channel\"], avg_margin[\"profit_margin_pct\"], color=[\"skyblue\",\"lightpink\",\"lightgreen\"], edgecolor=\"black\")\n",
    "plt.ylim(37, 38)\n",
    "# # Add value labels\n",
    "for bar in bars:\n",
    "    height = bar.get_height()\n",
    "    # print(height)\n",
    "    plt.text(\n",
    "        bar.get_x() + bar.get_width()/2,\n",
    "        height + 0.01,\n",
    "        f\"{height:.1f}%\",\n",
    "        ha=\"center\", va=\"bottom\"\n",
    "    )\n",
    "\n",
    "plt.title(\"Average Profit Margin by Channel\", fontsize=14)\n",
    "plt.xlabel(\"Channel\", fontsize=12)\n",
    "plt.ylabel(\"Average Profit Margin (%)\", fontsize=12)\n",
    "plt.tight_layout()\n",
    "plt.show()\n"
   ]
  },
  {
   "cell_type": "markdown",
   "id": "006611be",
   "metadata": {},
   "source": [
    "top and bottom 10 cutomers by revenue"
   ]
  },
  {
   "cell_type": "code",
   "execution_count": null,
   "id": "3c0b28f6",
   "metadata": {},
   "outputs": [],
   "source": [
    "cust=dfnew.groupby(\"customer_name\")[\"revenue\"].sum().reset_index().sort_values(\"revenue\", ascending=False)\n",
    "plt.subplot(1,2,1)\n",
    "plt.Figure(figsize=(10,10))\n",
    "plt.bar(cust[\"customer_name\"].head(10), cust[\"revenue\"].head(10), color=sns.color_palette(\"colorblind6\"))\n",
    "plt.xticks(rotation=45, ha=\"right\")\n",
    "plt.suptitle(\"top 10 customer\")\n",
    "plt.subplot(1,2,2)\n",
    "plt.Figure(figsize=(10,10))\n",
    "plt.bar(cust[\"customer_name\"].tail(10), cust[\"revenue\"].tail(10), color=sns.color_palette(\"colorblind6\"))\n",
    "plt.xticks(rotation=45, ha=\"right\")\n",
    "plt.suptitle(\"bottom 10 customer\")\n",
    "plt.show()"
   ]
  },
  {
   "cell_type": "code",
   "execution_count": null,
   "id": "25037e24",
   "metadata": {},
   "outputs": [],
   "source": [
    "cust=dfnew.groupby(\"customer_name\")[\"revenue\"].sum().reset_index().sort_values(\"revenue\", ascending=False)\n",
    "cust1=cust.head(10)\n",
    "cust2=cust.tail(10)\n",
    "\n",
    "plt.figure(figsize=(16,6))\n",
    "\n",
    "plt.subplot(1,2,1)\n",
    "plt.barh(cust1[\"customer_name\"],cust1[\"revenue\"], color=sns.color_palette(\"colorblind6\") )\n",
    "plt.title(\"top 10 customer by revenue\")\n",
    "plt.xticks( rotation=75, ha=\"right\")\n",
    "\n",
    "plt.subplot(1,2,2)\n",
    "plt.barh(cust2[\"customer_name\"],cust2[\"revenue\"], color=sns.color_palette(\"colorblind6\") )\n",
    "plt.title(\"bottom 10 customer by revenue\")\n",
    "plt.xticks( rotation=75, ha=\"right\")\n",
    "\n",
    "plt.tight_layout()\n",
    "plt.show()"
   ]
  },
  {
   "cell_type": "markdown",
   "id": "96fda949",
   "metadata": {},
   "source": [
    "customer segmentation: revenue vs profit margin"
   ]
  },
  {
   "cell_type": "code",
   "execution_count": null,
   "id": "09a3724b",
   "metadata": {},
   "outputs": [],
   "source": [
    "# dfnew = dfnew.drop(dfnew.columns[-1], axis=1)\n",
    "# dfnew = dfnew.iloc[:, :-1]\n",
    "# dfnew\n",
    "\n"
   ]
  },
  {
   "cell_type": "code",
   "execution_count": null,
   "id": "23fc2261",
   "metadata": {},
   "outputs": [],
   "source": [
    "customer_metrics = (\n",
    "    dfnew.groupby(\"customer_name\")\n",
    "    .agg({\"revenue\": \"sum\", \"profit_margin_pct\": \"mean\"})\n",
    "    .reset_index()\n",
    ")\n",
    "\n",
    "# 2. Identify top 5 customers by revenue\n",
    "top5 = customer_metrics.nlargest(5, \"revenue\")\n",
    "\n",
    "# 3. Scatter plot\n",
    "plt.figure(figsize=(10, 6))\n",
    "plt.scatter(\n",
    "    customer_metrics[\"revenue\"],\n",
    "    customer_metrics[\"profit_margin_pct\"],\n",
    "    alpha=0.6,\n",
    "    color=\"blue\",\n",
    "    label=\"Customers\"\n",
    ")\n",
    "\n",
    "\n",
    "# Highlight top 5 customers correctly\n",
    "plt.scatter(\n",
    "    top5[\"revenue\"],\n",
    "    top5[\"profit_margin_pct\"],\n",
    "    color=\"red\",\n",
    "    edgecolor=\"black\",\n",
    "    s=100,\n",
    "    label=\"Top 5 by Revenue\"\n",
    ")\n",
    "\n",
    "# Labels and formatting\n",
    "plt.title(\"Customer Segmentation: Revenue vs Profit Margin\", fontsize=16)\n",
    "plt.xlabel(\"Total Revenue\", fontsize=12)\n",
    "plt.ylabel(\"Average Profit Margin (%)\", fontsize=12)\n",
    "plt.legend()\n",
    "plt.grid(True, linestyle=\"--\", alpha=0.5)\n",
    "plt.tight_layout()\n",
    "plt.show()\n"
   ]
  },
  {
   "cell_type": "markdown",
   "id": "5211c3c9",
   "metadata": {},
   "source": [
    "corelation heatmap"
   ]
  },
  {
   "cell_type": "code",
   "execution_count": null,
   "id": "b4fc806e",
   "metadata": {},
   "outputs": [],
   "source": [
    "# Assuming your dataframe is df\n",
    "numeric_cols = ['order_quantity', 'unit_price', 'revenue', 'total_unit_cost',\n",
    "                'budget_2024', 'profit', 'profit_margin_pct']\n",
    "\n",
    "# Calculate correlation matrix\n",
    "corr_matrix = dfnew[numeric_cols].corr()\n",
    "\n",
    "# Plot heatmap\n",
    "plt.figure(figsize=(10, 7))\n",
    "sns.heatmap(corr_matrix, annot=True, fmt=\".2f\", cbar=True)\n",
    "plt.title(\"Correlation Heatmap of Numeric Columns\")\n",
    "plt.show()\n"
   ]
  },
  {
   "cell_type": "code",
   "execution_count": null,
   "id": "78a032aa",
   "metadata": {},
   "outputs": [
    {
     "ename": "AttributeError",
     "evalue": "'NoneType' object has no attribute 'keys'",
     "output_type": "error",
     "traceback": [
      "\u001b[31m---------------------------------------------------------------------------\u001b[39m",
      "\u001b[31mAttributeError\u001b[39m                            Traceback (most recent call last)",
      "\u001b[36mCell\u001b[39m\u001b[36m \u001b[39m\u001b[32mIn[10]\u001b[39m\u001b[32m, line 2\u001b[39m\n\u001b[32m      1\u001b[39m dfnew= dfnew.to_excel(\u001b[33m\"\u001b[39m\u001b[33mfinal_sales.xlsx\u001b[39m\u001b[33m\"\u001b[39m)\n\u001b[32m----> \u001b[39m\u001b[32m2\u001b[39m \u001b[43mdfnew\u001b[49m\u001b[43m.\u001b[49m\u001b[43mkeys\u001b[49m()\n",
      "\u001b[31mAttributeError\u001b[39m: 'NoneType' object has no attribute 'keys'"
     ]
    }
   ],
   "source": [
    "dfnew= dfnew.to_excel(\"final_sales.xlsx\")"
   ]
  }
 ],
 "metadata": {
  "kernelspec": {
   "display_name": "Python 3",
   "language": "python",
   "name": "python3"
  },
  "language_info": {
   "codemirror_mode": {
    "name": "ipython",
    "version": 3
   },
   "file_extension": ".py",
   "mimetype": "text/x-python",
   "name": "python",
   "nbconvert_exporter": "python",
   "pygments_lexer": "ipython3",
   "version": "3.13.7"
  }
 },
 "nbformat": 4,
 "nbformat_minor": 5
}
